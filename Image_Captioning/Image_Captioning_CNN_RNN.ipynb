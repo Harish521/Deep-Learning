{
  "nbformat": 4,
  "nbformat_minor": 0,
  "metadata": {
    "colab": {
      "name": "Image_Captioning_CNN_RNN.ipynb",
      "provenance": []
    },
    "kernelspec": {
      "name": "python3",
      "display_name": "Python 3"
    },
    "language_info": {
      "name": "python"
    }
  },
  "cells": [
    {
      "cell_type": "markdown",
      "metadata": {
        "id": "PQR-4cWSfd1a"
      },
      "source": [
        "# Image Captioning Dataset\n",
        "\n",
        "## Assignment Details\n",
        "\n",
        "**Problem Statement:** 1 (Image Captioning)<br>\n",
        "**Group:** DL Assignment Groups 21<br>\n",
        "**Group Members:**\n",
        "* Harish Pasupuleti - 2019AP04028\n",
        "* Sanket Walke - 2019AP04052\n",
        "* Chitral Verma - 2019AP04012"
      ]
    },
    {
      "cell_type": "markdown",
      "metadata": {
        "id": "dKDm40oxf8Ml"
      },
      "source": [
        "### Mounting Google drive to load source data"
      ]
    },
    {
      "cell_type": "code",
      "metadata": {
        "colab": {
          "base_uri": "https://localhost:8080/"
        },
        "id": "1J7BYjdsckh7",
        "outputId": "7f8aa670-bb01-4c2b-d136-f7808fd0b7d7"
      },
      "source": [
        "from google.colab import drive\n",
        "drive.mount('/content/drive')"
      ],
      "execution_count": 1,
      "outputs": [
        {
          "output_type": "stream",
          "text": [
            "Mounted at /content/drive\n"
          ],
          "name": "stdout"
        }
      ]
    },
    {
      "cell_type": "markdown",
      "metadata": {
        "id": "6-OexGflgPls"
      },
      "source": [
        "## 1. Import Libraries/dataset"
      ]
    },
    {
      "cell_type": "markdown",
      "metadata": {
        "id": "2jz0bj8fganJ"
      },
      "source": [
        "### a.\tImport the required libraries and the dataset "
      ]
    },
    {
      "cell_type": "code",
      "metadata": {
        "colab": {
          "base_uri": "https://localhost:8080/"
        },
        "id": "suBYFlCNgApH",
        "outputId": "19612a64-b734-490c-8055-36fb6226574b"
      },
      "source": [
        "import pandas as pd\n",
        "import numpy as np\n",
        "import itertools\n",
        "import time\n",
        "import nltk\n",
        "import re\n",
        "from wordcloud import WordCloud\n",
        "import seaborn as sns, matplotlib.pyplot as plt\n",
        "from sklearn.metrics import accuracy_score, classification_report, confusion_matrix\n",
        "import tensorflow as tf\n",
        "import tensorflow_hub as hub\n",
        "from tensorflow.python.keras.preprocessing.sequence import pad_sequences\n",
        "from tensorflow.python.keras.models import Sequential\n",
        "from tensorflow.python.keras.layers import Dense, Embedding, LSTM, Dropout\n",
        "from keras.optimizers import Adam\n",
        "from keras import regularizers\n",
        "from nltk.corpus import stopwords\n",
        "nltk.download(\"stopwords\")\n",
        "nltk.download(\"punkt\")"
      ],
      "execution_count": 2,
      "outputs": [
        {
          "output_type": "stream",
          "text": [
            "[nltk_data] Downloading package stopwords to /root/nltk_data...\n",
            "[nltk_data]   Unzipping corpora/stopwords.zip.\n",
            "[nltk_data] Downloading package punkt to /root/nltk_data...\n",
            "[nltk_data]   Unzipping tokenizers/punkt.zip.\n"
          ],
          "name": "stdout"
        },
        {
          "output_type": "execute_result",
          "data": {
            "text/plain": [
              "True"
            ]
          },
          "metadata": {
            "tags": []
          },
          "execution_count": 2
        }
      ]
    },
    {
      "cell_type": "code",
      "metadata": {
        "id": "OihNUs_3jUhb"
      },
      "source": [
        ""
      ],
      "execution_count": null,
      "outputs": []
    }
  ]
}